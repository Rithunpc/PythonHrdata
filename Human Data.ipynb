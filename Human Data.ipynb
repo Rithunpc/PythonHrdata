{
 "cells": [
  {
   "cell_type": "code",
   "execution_count": 1,
   "id": "f5531f36",
   "metadata": {},
   "outputs": [
    {
     "data": {
      "text/html": [
       "<div>\n",
       "<style scoped>\n",
       "    .dataframe tbody tr th:only-of-type {\n",
       "        vertical-align: middle;\n",
       "    }\n",
       "\n",
       "    .dataframe tbody tr th {\n",
       "        vertical-align: top;\n",
       "    }\n",
       "\n",
       "    .dataframe thead th {\n",
       "        text-align: right;\n",
       "    }\n",
       "</style>\n",
       "<table border=\"1\" class=\"dataframe\">\n",
       "  <thead>\n",
       "    <tr style=\"text-align: right;\">\n",
       "      <th></th>\n",
       "      <th>Employee Name</th>\n",
       "      <th>Department</th>\n",
       "      <th>Salary</th>\n",
       "      <th>Age</th>\n",
       "      <th>Gender</th>\n",
       "      <th>Date of Join</th>\n",
       "    </tr>\n",
       "  </thead>\n",
       "  <tbody>\n",
       "    <tr>\n",
       "      <th>0</th>\n",
       "      <td>Wilson  K Adinolfi</td>\n",
       "      <td>Production</td>\n",
       "      <td>62506</td>\n",
       "      <td>49</td>\n",
       "      <td>Male</td>\n",
       "      <td>07-05-2011</td>\n",
       "    </tr>\n",
       "    <tr>\n",
       "      <th>1</th>\n",
       "      <td>Karthikeyan Ait Sidi</td>\n",
       "      <td>IT/IS</td>\n",
       "      <td>104437</td>\n",
       "      <td>55</td>\n",
       "      <td>Male</td>\n",
       "      <td>30-03-2015</td>\n",
       "    </tr>\n",
       "    <tr>\n",
       "      <th>2</th>\n",
       "      <td>Sarah Akinkuolie</td>\n",
       "      <td>Production</td>\n",
       "      <td>64955</td>\n",
       "      <td>49</td>\n",
       "      <td>Female</td>\n",
       "      <td>07-05-2011</td>\n",
       "    </tr>\n",
       "    <tr>\n",
       "      <th>3</th>\n",
       "      <td>Trina Alagbe</td>\n",
       "      <td>Production</td>\n",
       "      <td>64991</td>\n",
       "      <td>49</td>\n",
       "      <td>Female</td>\n",
       "      <td>01-07-2008</td>\n",
       "    </tr>\n",
       "    <tr>\n",
       "      <th>4</th>\n",
       "      <td>Carol Anderson</td>\n",
       "      <td>Production</td>\n",
       "      <td>50825</td>\n",
       "      <td>31</td>\n",
       "      <td>Female</td>\n",
       "      <td>07-11-2011</td>\n",
       "    </tr>\n",
       "    <tr>\n",
       "      <th>...</th>\n",
       "      <td>...</td>\n",
       "      <td>...</td>\n",
       "      <td>...</td>\n",
       "      <td>...</td>\n",
       "      <td>...</td>\n",
       "      <td>...</td>\n",
       "    </tr>\n",
       "    <tr>\n",
       "      <th>306</th>\n",
       "      <td>Jason Woodson</td>\n",
       "      <td>Production</td>\n",
       "      <td>65893</td>\n",
       "      <td>39</td>\n",
       "      <td>Male</td>\n",
       "      <td>07-07-2014</td>\n",
       "    </tr>\n",
       "    <tr>\n",
       "      <th>307</th>\n",
       "      <td>Catherine Ybarra</td>\n",
       "      <td>Production</td>\n",
       "      <td>48513</td>\n",
       "      <td>35</td>\n",
       "      <td>Female</td>\n",
       "      <td>09-02-2008</td>\n",
       "    </tr>\n",
       "    <tr>\n",
       "      <th>308</th>\n",
       "      <td>Jennifer Zamora</td>\n",
       "      <td>IT/IS</td>\n",
       "      <td>220450</td>\n",
       "      <td>42</td>\n",
       "      <td>Female</td>\n",
       "      <td>04-10-2010</td>\n",
       "    </tr>\n",
       "    <tr>\n",
       "      <th>309</th>\n",
       "      <td>Julia Zhou</td>\n",
       "      <td>IT/IS</td>\n",
       "      <td>89292</td>\n",
       "      <td>42</td>\n",
       "      <td>Female</td>\n",
       "      <td>30-03-2015</td>\n",
       "    </tr>\n",
       "    <tr>\n",
       "      <th>310</th>\n",
       "      <td>Colleen Zima</td>\n",
       "      <td>Production</td>\n",
       "      <td>45046</td>\n",
       "      <td>58</td>\n",
       "      <td>Female</td>\n",
       "      <td>29-09-2014</td>\n",
       "    </tr>\n",
       "  </tbody>\n",
       "</table>\n",
       "<p>311 rows × 6 columns</p>\n",
       "</div>"
      ],
      "text/plain": [
       "            Employee Name         Department  Salary  Age  Gender Date of Join\n",
       "0      Wilson  K Adinolfi  Production          62506   49   Male    07-05-2011\n",
       "1    Karthikeyan Ait Sidi              IT/IS  104437   55   Male    30-03-2015\n",
       "2        Sarah Akinkuolie  Production          64955   49  Female   07-05-2011\n",
       "3            Trina Alagbe  Production          64991   49  Female   01-07-2008\n",
       "4          Carol Anderson  Production          50825   31  Female   07-11-2011\n",
       "..                    ...                ...     ...  ...     ...          ...\n",
       "306         Jason Woodson  Production          65893   39   Male    07-07-2014\n",
       "307      Catherine Ybarra  Production          48513   35  Female   09-02-2008\n",
       "308       Jennifer Zamora              IT/IS  220450   42  Female   04-10-2010\n",
       "309            Julia Zhou              IT/IS   89292   42  Female   30-03-2015\n",
       "310          Colleen Zima  Production          45046   58  Female   29-09-2014\n",
       "\n",
       "[311 rows x 6 columns]"
      ]
     },
     "execution_count": 1,
     "metadata": {},
     "output_type": "execute_result"
    }
   ],
   "source": [
    "import pandas as pd\n",
    "hr=pd.read_excel('Human resource.xlsx')\n",
    "hr"
   ]
  },
  {
   "cell_type": "code",
   "execution_count": 2,
   "id": "9a6ac602",
   "metadata": {},
   "outputs": [
    {
     "name": "stdout",
     "output_type": "stream",
     "text": [
      "Total salary: 21465433\n"
     ]
    }
   ],
   "source": [
    "# Find total salary.\n",
    "\n",
    "print(\"Total salary:\",hr[\"Salary\"].sum()) "
   ]
  },
  {
   "cell_type": "code",
   "execution_count": 3,
   "id": "b65995cd",
   "metadata": {},
   "outputs": [
    {
     "name": "stdout",
     "output_type": "stream",
     "text": [
      "Average salary: 69020.6848874598\n"
     ]
    }
   ],
   "source": [
    "# Find Average salary.\n",
    "\n",
    "print(\"Average salary:\",hr[\"Salary\"].mean()) "
   ]
  },
  {
   "cell_type": "code",
   "execution_count": 4,
   "id": "c34089ec",
   "metadata": {},
   "outputs": [
    {
     "name": "stdout",
     "output_type": "stream",
     "text": [
      "Maximum salary: 250000\n"
     ]
    }
   ],
   "source": [
    "# Find Maximum salary.\n",
    "\n",
    "print(\"Maximum salary:\",hr[\"Salary\"].max()) "
   ]
  },
  {
   "cell_type": "code",
   "execution_count": 5,
   "id": "4b1dea64",
   "metadata": {},
   "outputs": [
    {
     "name": "stdout",
     "output_type": "stream",
     "text": [
      "Minimum salary: 45046\n"
     ]
    }
   ],
   "source": [
    "# Find Minimum salary. \n",
    "\n",
    "print(\"Minimum salary:\",hr[\"Salary\"].min()) \n"
   ]
  },
  {
   "cell_type": "code",
   "execution_count": null,
   "id": "a40d8ae8",
   "metadata": {},
   "outputs": [],
   "source": [
    "# Find the range of salary."
   ]
  },
  {
   "cell_type": "code",
   "execution_count": null,
   "id": "f17074e8",
   "metadata": {},
   "outputs": [],
   "source": [
    "# Find the descriptive statistics for the variable salary and identify the varience."
   ]
  },
  {
   "cell_type": "code",
   "execution_count": 6,
   "id": "2d202cb4",
   "metadata": {},
   "outputs": [
    {
     "name": "stdout",
     "output_type": "stream",
     "text": [
      "Average of Age: 42.02893890675241\n"
     ]
    }
   ],
   "source": [
    "# find the average age of employees.\n",
    "\n",
    "print(\"Average of Age:\",hr[\"Age\"].mean()) "
   ]
  },
  {
   "cell_type": "code",
   "execution_count": 7,
   "id": "bd9812ef",
   "metadata": {},
   "outputs": [
    {
     "name": "stdout",
     "output_type": "stream",
     "text": [
      "Minimum of Age : 24\n"
     ]
    }
   ],
   "source": [
    "# find the Minimum age of employees. \n",
    "\n",
    "print(\"Minimum of Age :\",hr[\"Age\"].min()) "
   ]
  },
  {
   "cell_type": "code",
   "execution_count": 9,
   "id": "5335359b",
   "metadata": {},
   "outputs": [
    {
     "name": "stdout",
     "output_type": "stream",
     "text": [
      "Maximum of Age : 60\n"
     ]
    }
   ],
   "source": [
    "# find the Maximum age of employees. \n",
    "\n",
    "print(\"Maximum of Age :\",hr[\"Age\"].max()) "
   ]
  },
  {
   "cell_type": "code",
   "execution_count": null,
   "id": "3c964a4a",
   "metadata": {},
   "outputs": [],
   "source": [
    "# Find the descriptive statistics for the variable age and identify the quartiles."
   ]
  },
  {
   "cell_type": "code",
   "execution_count": 10,
   "id": "cc99fba1",
   "metadata": {},
   "outputs": [
    {
     "data": {
      "text/plain": [
       "Female    176\n",
       "Male      135\n",
       "Name: Gender, dtype: int64"
      ]
     },
     "execution_count": 10,
     "metadata": {},
     "output_type": "execute_result"
    }
   ],
   "source": [
    "# find the count of gender.\n",
    "\n",
    "hr['Gender'].value_counts() "
   ]
  },
  {
   "cell_type": "code",
   "execution_count": 11,
   "id": "3b39801e",
   "metadata": {},
   "outputs": [
    {
     "data": {
      "image/png": "[encoded data removed]",
      "text/plain": [
       "<Figure size 640x480 with 1 Axes>"
      ]
     },
     "metadata": {},
     "output_type": "display_data"
    }
   ],
   "source": [
    "# find the frequency of genderin a bar chart.modify the chart.\n",
    "\n",
    "f = hr['Gender'].value_counts(normalize= True).plot(kind='bar') "
   ]
  },
  {
   "cell_type": "code",
   "execution_count": 13,
   "id": "d68684e5",
   "metadata": {},
   "outputs": [],
   "source": [
    " # Obtain the percentage value of number of male and female employees.\n",
    "    \n",
    "# f = hr['Gender'].value_percentage(normalize= True).plot(kind='bar')"
   ]
  },
  {
   "cell_type": "code",
   "execution_count": 14,
   "id": "064f52d2",
   "metadata": {},
   "outputs": [
    {
     "data": {
      "image/png": "[encoded data removed]",
      "text/plain": [
       "<Figure size 640x480 with 1 Axes>"
      ]
     },
     "metadata": {},
     "output_type": "display_data"
    }
   ],
   "source": [
    "# Obtain the percentage value of number of male and female employees in a pie chart. modify the chart.\n",
    "\n",
    "f = hr['Gender'].value_counts(normalize= True).plot(kind='pie') "
   ]
  },
  {
   "cell_type": "code",
   "execution_count": null,
   "id": "1fe4570b",
   "metadata": {},
   "outputs": [],
   "source": []
  }
 ],
 "metadata": {
  "kernelspec": {
   "display_name": "Python 3 (ipykernel)",
   "language": "python",
   "name": "python3"
  },
  "language_info": {
   "codemirror_mode": {
    "name": "ipython",
    "version": 3
   },
   "file_extension": ".py",
   "mimetype": "text/x-python",
   "name": "python",
   "nbconvert_exporter": "python",
   "pygments_lexer": "ipython3",
   "version": "3.10.9"
  }
 },
 "nbformat": 4,
 "nbformat_minor": 5
}
